{
 "cells": [
  {
   "cell_type": "markdown",
   "metadata": {},
   "source": [
    "### DDW Design Thinking Project III \n",
    "**Group 7**  \n",
    "Name/ID\n",
    " 1. Yuen Wei Xiang, Cyrus   1007689\n",
    " 2. Haneeshwar Reddy Komma  1008256\n",
    " 3. Que Xin Xuan            1007949\n",
    " 4. Chong Zhi Kai           1008142\n"
   ]
  },
  {
   "cell_type": "markdown",
   "metadata": {},
   "source": [
    "#### Probelm Statement\n",
    "\"How might we predict the impacts of climate change on agriculture across countries, to maximize food production ensuring adequate, safe and nutritious food for all?\""
   ]
  },
  {
   "cell_type": "markdown",
   "metadata": {},
   "source": [
    "#### Data\n",
    "o Link to data sources.  \n",
    "o Discussion on why these data were used, including any relevant visualizations and your insight.  \n",
    "o Steps to clean the data and their Python codes. "
   ]
  },
  {
   "cell_type": "code",
   "execution_count": null,
   "metadata": {},
   "outputs": [],
   "source": []
  },
  {
   "cell_type": "markdown",
   "metadata": {},
   "source": [
    "#### Model\n",
    "o Discussion on the predictors or features.  \n",
    "o Discussion on building the model and their Python codes.  \n",
    "o Any other relevant mathematical details. "
   ]
  },
  {
   "cell_type": "code",
   "execution_count": null,
   "metadata": {},
   "outputs": [],
   "source": []
  },
  {
   "cell_type": "markdown",
   "metadata": {},
   "source": [
    "#### Model Evaluation\n",
    "o Discussion on the chosen metric to evaluate your final model, how that model compares with your earlier attempts, any mathematical details, and all resources consulted.   \n",
    "o Code and results of the metric on your test data set."
   ]
  },
  {
   "cell_type": "code",
   "execution_count": null,
   "metadata": {},
   "outputs": [
    {
     "name": "stdout",
     "output_type": "stream",
     "text": [
      "Hello\n"
     ]
    }
   ],
   "source": []
  },
  {
   "cell_type": "markdown",
   "metadata": {},
   "source": [
    "#### Discussion\n",
    "Discussion of code  \n",
    "Steps to improve accuracy of model"
   ]
  }
 ],
 "metadata": {
  "kernelspec": {
   "display_name": "Python 3",
   "language": "python",
   "name": "python3"
  },
  "language_info": {
   "codemirror_mode": {
    "name": "ipython",
    "version": 3
   },
   "file_extension": ".py",
   "mimetype": "text/x-python",
   "name": "python",
   "nbconvert_exporter": "python",
   "pygments_lexer": "ipython3",
   "version": "3.11.9"
  }
 },
 "nbformat": 4,
 "nbformat_minor": 2
}
